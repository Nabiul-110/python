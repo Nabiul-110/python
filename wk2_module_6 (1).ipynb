{
 "cells": [
  {
   "cell_type": "markdown",
   "id": "60e3ec8c-9ea8-4d66-b8e8-498c2cf93c80",
   "metadata": {},
   "source": [
    "### function parameter"
   ]
  },
  {
   "cell_type": "code",
   "execution_count": 4,
   "id": "2a709d70-961e-4118-b0ed-7b8848af8d00",
   "metadata": {},
   "outputs": [],
   "source": [
    "def geet(user = \"nabiul\"):\n",
    "    print(f\"hello {user}\")\n"
   ]
  },
  {
   "cell_type": "code",
   "execution_count": 5,
   "id": "56dff986-e3a5-4f64-a543-6351093f1dab",
   "metadata": {},
   "outputs": [
    {
     "name": "stdout",
     "output_type": "stream",
     "text": [
      "hello nabiul\n"
     ]
    }
   ],
   "source": [
    "geet()"
   ]
  },
  {
   "cell_type": "code",
   "execution_count": 8,
   "id": "6907402c-36e4-41d6-a086-0e91cfa599aa",
   "metadata": {},
   "outputs": [
    {
     "name": "stdout",
     "output_type": "stream",
     "text": [
      "10 20 30\n",
      "1410\n"
     ]
    }
   ],
   "source": [
    "def square_add(a,b,c):\n",
    "\n",
    "    print(f\"{a} {b} {c}\")\n",
    "    a = a**2\n",
    "    b = b**2\n",
    "    c = c**2\n",
    "    return a+b+c\n",
    "ans = square_add(10,20,30)+10\n",
    "print(ans)\n"
   ]
  },
  {
   "cell_type": "code",
   "execution_count": 13,
   "id": "1ff525d4-fb76-4b02-a61b-7bec1ab36ef7",
   "metadata": {},
   "outputs": [
    {
     "name": "stdout",
     "output_type": "stream",
     "text": [
      "5500\n"
     ]
    }
   ],
   "source": [
    "def Square(*args):\n",
    "    sum = 0\n",
    "    for i in args:\n",
    "        i = i**2\n",
    "        sum += i\n",
    "    return sum\n",
    "ans = Square(10,20,30,40,50)\n",
    "print(ans)"
   ]
  },
  {
   "cell_type": "code",
   "execution_count": 16,
   "id": "884b0769-51b5-45ed-8038-1aa20066f814",
   "metadata": {},
   "outputs": [
    {
     "name": "stdout",
     "output_type": "stream",
     "text": [
      "{'name': 'adil', 'cls': 10, 'roll': 30}\n"
     ]
    }
   ],
   "source": [
    "## pass key word argument\n",
    "\n",
    "def student(**kargs):\n",
    "    print(kargs)\n",
    "\n",
    "student(name =\"adil\",cls = 10,roll = 30)"
   ]
  },
  {
   "cell_type": "code",
   "execution_count": 21,
   "id": "9dc5e2c8-fcc5-4e5e-aa42-788316298660",
   "metadata": {},
   "outputs": [
    {
     "name": "stdout",
     "output_type": "stream",
     "text": [
      "name:adil\n",
      "cls:10\n",
      "roll:30\n"
     ]
    }
   ],
   "source": [
    "## output jeita diche eita dictonary teh diche\n",
    "def student(**kargs):\n",
    "    for key,val in kargs.items():\n",
    "        print(f\"{key}:{val}\")\n",
    "\n",
    "student(name =\"adil\",cls = 10,roll = 30)\n"
   ]
  },
  {
   "cell_type": "markdown",
   "id": "305b18a1-8c7e-4d8f-8e69-5ffa12cd6133",
   "metadata": {},
   "source": [
    "### return"
   ]
  },
  {
   "cell_type": "code",
   "execution_count": 22,
   "id": "d8ce8829-14d0-45db-8af0-194c173896b0",
   "metadata": {},
   "outputs": [
    {
     "data": {
      "text/plain": [
       "int"
      ]
     },
     "execution_count": 22,
     "metadata": {},
     "output_type": "execute_result"
    }
   ],
   "source": [
    "def give_predict():\n",
    "    return 10\n",
    "type(give_predict())"
   ]
  },
  {
   "cell_type": "code",
   "execution_count": 23,
   "id": "11f3b7e0-5ec9-4e77-941c-336174d70189",
   "metadata": {},
   "outputs": [
    {
     "data": {
      "text/plain": [
       "float"
      ]
     },
     "execution_count": 23,
     "metadata": {},
     "output_type": "execute_result"
    }
   ],
   "source": [
    "def give_predict():\n",
    "    return 10.11\n",
    "type(give_predict())"
   ]
  },
  {
   "cell_type": "code",
   "execution_count": 25,
   "id": "fde41363-4e47-4d08-a5b8-7934e144bc25",
   "metadata": {},
   "outputs": [
    {
     "data": {
      "text/plain": [
       "str"
      ]
     },
     "execution_count": 25,
     "metadata": {},
     "output_type": "execute_result"
    }
   ],
   "source": [
    "def give_predict():\n",
    "    return \"name\"\n",
    "type(give_predict())"
   ]
  },
  {
   "cell_type": "code",
   "execution_count": 26,
   "id": "ad5ecea0-acb8-4987-b649-082116f34860",
   "metadata": {},
   "outputs": [
    {
     "data": {
      "text/plain": [
       "tuple"
      ]
     },
     "execution_count": 26,
     "metadata": {},
     "output_type": "execute_result"
    }
   ],
   "source": [
    "def give_predict():\n",
    "    return 10,20\n",
    "type(give_predict())"
   ]
  },
  {
   "cell_type": "code",
   "execution_count": 28,
   "id": "078cc576-c4d0-4734-b667-2cfc18a2cca8",
   "metadata": {},
   "outputs": [
    {
     "name": "stdout",
     "output_type": "stream",
     "text": [
      "(10, 20)\n"
     ]
    }
   ],
   "source": [
    "print(give_predict())"
   ]
  },
  {
   "cell_type": "code",
   "execution_count": 31,
   "id": "b01fa089-b695-4a08-9da9-9b9109cd8981",
   "metadata": {},
   "outputs": [
    {
     "name": "stdout",
     "output_type": "stream",
     "text": [
      "10 20\n"
     ]
    }
   ],
   "source": [
    "x,y = give_predict()\n",
    "\n",
    "print(x,y)"
   ]
  },
  {
   "cell_type": "code",
   "execution_count": 34,
   "id": "6fd5be77-1052-4394-857d-957d086ac465",
   "metadata": {},
   "outputs": [
    {
     "name": "stdout",
     "output_type": "stream",
     "text": [
      "[10, 20, 30]\n",
      "[20, 30, 40]\n"
     ]
    }
   ],
   "source": [
    "def give_one():\n",
    "    a= [10,20,30]\n",
    "    b= [20,30,40]\n",
    "    return a,b\n",
    "type(give_one())\n",
    "\n",
    "##unpack \n",
    "\n",
    "x,y=give_one()\n",
    "\n",
    "print(x)\n",
    "print(y)"
   ]
  },
  {
   "cell_type": "markdown",
   "id": "d74749a7-edf5-4b67-bb0b-a8fc3697b06a",
   "metadata": {},
   "source": [
    "### iteration "
   ]
  },
  {
   "cell_type": "code",
   "execution_count": 5,
   "id": "b8b3068d-9c3e-499b-b950-c2e57d67561a",
   "metadata": {},
   "outputs": [
    {
     "name": "stdout",
     "output_type": "stream",
     "text": [
      "10\n",
      "20\n",
      "30\n"
     ]
    },
    {
     "ename": "StopIteration",
     "evalue": "",
     "output_type": "error",
     "traceback": [
      "\u001b[1;31m---------------------------------------------------------------------------\u001b[0m",
      "\u001b[1;31mStopIteration\u001b[0m                             Traceback (most recent call last)",
      "Cell \u001b[1;32mIn[5], line 7\u001b[0m\n\u001b[0;32m      5\u001b[0m \u001b[38;5;28mprint\u001b[39m(\u001b[38;5;28mnext\u001b[39m(s_iter))\n\u001b[0;32m      6\u001b[0m \u001b[38;5;28mprint\u001b[39m(\u001b[38;5;28mnext\u001b[39m(s_iter))\n\u001b[1;32m----> 7\u001b[0m \u001b[38;5;28mprint\u001b[39m(\u001b[38;5;28mnext\u001b[39m(s_iter))\n",
      "\u001b[1;31mStopIteration\u001b[0m: "
     ]
    }
   ],
   "source": [
    "s = {10,20,30}\n",
    "s_iter = iter(s)\n",
    "\n",
    "print(next(s_iter))\n",
    "print(next(s_iter))\n",
    "print(next(s_iter))\n",
    "print(next(s_iter))"
   ]
  },
  {
   "cell_type": "markdown",
   "id": "369b45a1-e331-4afe-9fc6-49e540c759b7",
   "metadata": {},
   "source": [
    "### generator"
   ]
  },
  {
   "cell_type": "code",
   "execution_count": 12,
   "id": "19b0797e-e3ae-4d90-803c-fd5a198be40c",
   "metadata": {},
   "outputs": [
    {
     "name": "stdout",
     "output_type": "stream",
     "text": [
      "[0, 1, 2, 3, 4]\n",
      "[5, 6, 7, 8, 9]\n"
     ]
    }
   ],
   "source": [
    "lst = [x for x in range(500)] # dataset\n",
    "\n",
    "def data_loader(chunk_size,lst):\n",
    "    for i in range(0,len(lst),chunk_size):\n",
    "        yield lst[i:i+chunk_size]\n",
    "x = data_loader(5,lst)\n",
    "\n",
    "print(next(x))\n",
    "print(next(x))\n",
    "\n"
   ]
  },
  {
   "cell_type": "markdown",
   "id": "02de3bd7-f9c3-4a6b-93bf-31577c89f727",
   "metadata": {},
   "source": [
    "### lambda function"
   ]
  },
  {
   "cell_type": "code",
   "execution_count": 15,
   "id": "ff6a8218-71b6-4bbe-b7bc-27865bf848d3",
   "metadata": {},
   "outputs": [
    {
     "name": "stdout",
     "output_type": "stream",
     "text": [
      "13\n"
     ]
    }
   ],
   "source": [
    "def square_root(x,y):\n",
    "    return x**2+y**2\n",
    "print(square_root(2,3))"
   ]
  },
  {
   "cell_type": "code",
   "execution_count": 16,
   "id": "45666c60-31be-42bf-8bab-0402a58a7c91",
   "metadata": {},
   "outputs": [
    {
     "name": "stdout",
     "output_type": "stream",
     "text": [
      "13\n"
     ]
    }
   ],
   "source": [
    "y = lambda x,y : x**2+y**2\n",
    "\n",
    "print(y(2,3))"
   ]
  },
  {
   "cell_type": "code",
   "execution_count": 18,
   "id": "56e9c03f-5b54-487d-9eaa-b0ed83b5031f",
   "metadata": {},
   "outputs": [
    {
     "name": "stdout",
     "output_type": "stream",
     "text": [
      "True\n"
     ]
    }
   ],
   "source": [
    "if_even = lambda x : x%2==0\n",
    "\n",
    "print(if_even(10))"
   ]
  },
  {
   "cell_type": "markdown",
   "id": "69e24cba-c848-4563-842d-5e602fd8d67c",
   "metadata": {},
   "source": [
    "### map function"
   ]
  },
  {
   "cell_type": "code",
   "execution_count": 19,
   "id": "558ffd72-c564-4e85-9527-bfd69f0de5cc",
   "metadata": {},
   "outputs": [
    {
     "name": "stdout",
     "output_type": "stream",
     "text": [
      "[1, 4, 9, 16, 25, 36, 64]\n"
     ]
    }
   ],
   "source": [
    "lst = [1,2,3,4,5,6,8]\n",
    "\n",
    "def square(x):\n",
    "    return x**2\n",
    "lst = list(map(square,lst))\n",
    "\n",
    "print(lst)"
   ]
  },
  {
   "cell_type": "code",
   "execution_count": 25,
   "id": "4dd94d87-a3ad-4007-b2c2-bab8064ec179",
   "metadata": {},
   "outputs": [
    {
     "name": "stdout",
     "output_type": "stream",
     "text": [
      "['M', 'Y', ' ', 'N', 'A', 'M', 'E', ' ', 'N', 'A', 'B', 'I', 'U', 'L']\n",
      "M Y   N A M E   N A B I U L\n"
     ]
    }
   ],
   "source": [
    "strr = \"my name nabiul\"\n",
    "\n",
    "string1 = list(map(str.upper,strr))\n",
    "\n",
    "print(string1)\n",
    "\n",
    "string1 = \" \".join(string1)\n",
    "\n",
    "print(string1)"
   ]
  },
  {
   "cell_type": "code",
   "execution_count": 27,
   "id": "e6e83f8b-d46c-495d-b2b0-d7ffdc6d80aa",
   "metadata": {},
   "outputs": [
    {
     "name": "stdout",
     "output_type": "stream",
     "text": [
      "[1, 4, 3, 16, 5, 36, 64]\n"
     ]
    }
   ],
   "source": [
    "lst = [1,2,3,4,5,6,8]\n",
    "\n",
    "\n",
    "lst = list(map(lambda x : x**2 if x%2==0 else x,lst))\n",
    "\n",
    "print(lst)"
   ]
  },
  {
   "cell_type": "markdown",
   "id": "e33d1a94-14f8-4d43-96d2-69597a03f17e",
   "metadata": {},
   "source": [
    "### filter function"
   ]
  },
  {
   "cell_type": "code",
   "execution_count": 30,
   "id": "b0807158-1768-4754-957c-6ce95939dcb0",
   "metadata": {},
   "outputs": [
    {
     "name": "stdout",
     "output_type": "stream",
     "text": [
      "[0, 2, 4, 6, 8, 10, 12, 14, 16, 18, 20, 22, 24, 26, 28, 30, 32, 34, 36, 38, 40, 42, 44, 46, 48, 50, 52, 54, 56, 58, 60, 62, 64, 66, 68, 70, 72, 74, 76, 78, 80, 82, 84, 86, 88, 90, 92, 94, 96, 98]\n",
      "[51, 52, 53, 54, 55, 56, 57, 58, 59, 60, 61, 62, 63, 64, 65, 66, 67, 68, 69, 70, 71, 72, 73, 74, 75, 76, 77, 78, 79, 80, 81, 82, 83, 84, 85, 86, 87, 88, 89, 90, 91, 92, 93, 94, 95, 96, 97, 98, 99]\n"
     ]
    }
   ],
   "source": [
    "numbers = [x for x in range(100)]\n",
    "\n",
    "#even\n",
    "even = list(filter(lambda x : x%2 == 0,numbers))\n",
    "\n",
    "print(even)\n",
    "\n",
    "fifty_upper = list(filter(lambda x : x>50,numbers))\n",
    "\n",
    "print(fifty_upper)"
   ]
  },
  {
   "cell_type": "markdown",
   "id": "10087a35-06c6-45b2-8332-45311bb8bcc1",
   "metadata": {},
   "source": [
    "### reduce function"
   ]
  },
  {
   "cell_type": "code",
   "execution_count": 32,
   "id": "d463e5a0-ba89-4738-bd92-44b47818c892",
   "metadata": {},
   "outputs": [],
   "source": [
    "from functools import reduce"
   ]
  },
  {
   "cell_type": "code",
   "execution_count": 34,
   "id": "80725e40-b2f3-4317-b42e-b60ec1c17c4a",
   "metadata": {},
   "outputs": [
    {
     "name": "stdout",
     "output_type": "stream",
     "text": [
      "26\n"
     ]
    }
   ],
   "source": [
    "lst = [1,2,3,6,8,6]\n",
    "\n",
    "summation = reduce(lambda x,y : x+y,lst)\n",
    "\n",
    "print(summation)\n",
    "\n"
   ]
  },
  {
   "cell_type": "code",
   "execution_count": 35,
   "id": "b202132b-531b-413d-bcc6-660a1463bf00",
   "metadata": {},
   "outputs": [
    {
     "name": "stdout",
     "output_type": "stream",
     "text": [
      "5\n"
     ]
    }
   ],
   "source": [
    "def add(a,b=2):\n",
    "    return a+b\n",
    "print(add(3))"
   ]
  },
  {
   "cell_type": "code",
   "execution_count": null,
   "id": "6dab1192-c111-4fa6-b412-43f8ce11f532",
   "metadata": {},
   "outputs": [],
   "source": []
  }
 ],
 "metadata": {
  "kernelspec": {
   "display_name": "Python [conda env:base] *",
   "language": "python",
   "name": "conda-base-py"
  },
  "language_info": {
   "codemirror_mode": {
    "name": "ipython",
    "version": 3
   },
   "file_extension": ".py",
   "mimetype": "text/x-python",
   "name": "python",
   "nbconvert_exporter": "python",
   "pygments_lexer": "ipython3",
   "version": "3.13.5"
  }
 },
 "nbformat": 4,
 "nbformat_minor": 5
}
