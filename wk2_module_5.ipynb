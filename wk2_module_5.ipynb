{
 "cells": [
  {
   "cell_type": "markdown",
   "id": "947a8540-5228-46ed-84f8-3363bddb69b1",
   "metadata": {},
   "source": [
    "### tuples"
   ]
  },
  {
   "cell_type": "code",
   "execution_count": 9,
   "id": "1b539d16-68b7-4173-819d-f54d1cfcf2da",
   "metadata": {},
   "outputs": [
    {
     "name": "stdout",
     "output_type": "stream",
     "text": [
      "<class 'tuple'> (10, 22.32, 'str', True)\n",
      "<class 'tuple'> (10.3, 32.55)\n",
      "<class 'tuple'> (10, 20, 30, 40, 33)\n",
      "<class 'int'> 10\n",
      "<class 'tuple'> (10,)\n"
     ]
    }
   ],
   "source": [
    "##declaratio \n",
    "\n",
    "tup = (10,20,30,40,33)\n",
    "\n",
    "tup_float = (10.3,32.55)\n",
    "\n",
    "tup_mixed =(10,22.32,\"str\", True )\n",
    "\n",
    "print(type(tup_mixed),tup_mixed)\n",
    "\n",
    "print(type(tup_float),tup_float)\n",
    "\n",
    "print(type(tup),tup)\n",
    "\n",
    "tup1 =(10) ## single value er khetre eita tupple nah hoi integer hoi jabe tkn convert kore nite hbe\n",
    "\n",
    "print(type(tup1),tup1)\n",
    "\n",
    "tup2 = tuple([10])## (10,)\n",
    "\n",
    "print(type(tup2),tup2)\n",
    "\n",
    "\n",
    "\n"
   ]
  },
  {
   "cell_type": "code",
   "execution_count": 11,
   "id": "98049c67-21c1-47bd-b07a-c829dd4eee5c",
   "metadata": {},
   "outputs": [
    {
     "name": "stdout",
     "output_type": "stream",
     "text": [
      "30.12\n",
      "(10, 20, 30.12)\n"
     ]
    }
   ],
   "source": [
    "### access tuple\n",
    "\n",
    "tup =(10,20,30.12,\"str\", False)\n",
    "\n",
    "print(tup[2])\n",
    "\n",
    "new_tuple = tup[0:3]\n",
    "\n",
    "print(new_tuple)\n"
   ]
  },
  {
   "cell_type": "code",
   "execution_count": 15,
   "id": "6d4fc1ad-a8be-4f11-9855-3f4cba96c934",
   "metadata": {},
   "outputs": [
    {
     "name": "stdout",
     "output_type": "stream",
     "text": [
      "[10, 20, 30, 40, 60]\n",
      "[100, 20, 30, 40, 60]\n"
     ]
    },
    {
     "ename": "TypeError",
     "evalue": "'tuple' object does not support item assignment",
     "output_type": "error",
     "traceback": [
      "\u001b[1;31m---------------------------------------------------------------------------\u001b[0m",
      "\u001b[1;31mTypeError\u001b[0m                                 Traceback (most recent call last)",
      "Cell \u001b[1;32mIn[15], line 16\u001b[0m\n\u001b[0;32m     13\u001b[0m \u001b[38;5;66;03m## immutability\u001b[39;00m\n\u001b[0;32m     15\u001b[0m tup \u001b[38;5;241m=\u001b[39m (\u001b[38;5;241m10\u001b[39m,\u001b[38;5;241m20\u001b[39m,\u001b[38;5;241m30\u001b[39m,\u001b[38;5;241m40\u001b[39m)\n\u001b[1;32m---> 16\u001b[0m tup[\u001b[38;5;241m1\u001b[39m]\u001b[38;5;241m=\u001b[39m\u001b[38;5;241m100\u001b[39m\n\u001b[0;32m     18\u001b[0m \u001b[38;5;28mprint\u001b[39m(tup)\n",
      "\u001b[1;31mTypeError\u001b[0m: 'tuple' object does not support item assignment"
     ]
    }
   ],
   "source": [
    "## mmutability\n",
    "\n",
    "list =[10,20,30,40]\n",
    "\n",
    "list.append(60)\n",
    "\n",
    "print(list)\n",
    "\n",
    "list[0]=100\n",
    "\n",
    "print(list)\n",
    "\n",
    "## immutability\n",
    "\n",
    "tup = (10,20,30,40)\n",
    "tup[1]=100\n",
    "\n",
    "print(tup)"
   ]
  },
  {
   "cell_type": "code",
   "execution_count": 17,
   "id": "ced98a11-1e3d-4921-a3c8-b29d248a156b",
   "metadata": {},
   "outputs": [
    {
     "name": "stdout",
     "output_type": "stream",
     "text": [
      "2\n",
      "1\n"
     ]
    }
   ],
   "source": [
    "##tuple methode\n",
    "\n",
    "tup =(10,20,30,20,10)\n",
    "\n",
    "print(tup.count(10))\n",
    "print(tup.index(20))"
   ]
  },
  {
   "cell_type": "markdown",
   "id": "af41ef0a-d2ce-4510-81b5-0efc31c7524f",
   "metadata": {},
   "source": [
    "### set"
   ]
  },
  {
   "cell_type": "code",
   "execution_count": 22,
   "id": "ade8325c-3454-4da7-ac46-fddca4aae3aa",
   "metadata": {},
   "outputs": [
    {
     "name": "stdout",
     "output_type": "stream",
     "text": [
      "<class 'set'> {1, 2, 3}\n",
      "<class 'list'> []\n",
      "<class 'tuple'> ()\n",
      "<class 'dict'> {}\n",
      "<class 'set'> set()\n"
     ]
    }
   ],
   "source": [
    "## declaration\n",
    "a ={1,2,3}\n",
    "\n",
    "print(type(a),a)\n",
    "\n",
    "## empty sets\n",
    "\n",
    "b =[]\n",
    "\n",
    "print(type(b),b)\n",
    "\n",
    "c =()\n",
    "\n",
    "print(type(c),c)\n",
    "\n",
    "d = {}\n",
    "\n",
    "print(type(d),d)\n",
    "\n",
    "e = set()\n",
    "\n",
    "print(type(e),e)\n",
    "\n"
   ]
  },
  {
   "cell_type": "code",
   "execution_count": 23,
   "id": "c5c36b57-8063-49b6-96a1-ad17a279f6ea",
   "metadata": {},
   "outputs": [
    {
     "name": "stdout",
     "output_type": "stream",
     "text": [
      "3 is present\n",
      "1\n",
      "2\n",
      "3\n"
     ]
    }
   ],
   "source": [
    "s ={1,2,3}\n",
    "\n",
    "if 3 in s:\n",
    "    print(\"3 is present\")\n",
    "else:\n",
    "    print(\"not present\")\n",
    "\n",
    "for element in s:\n",
    "    print(element)"
   ]
  },
  {
   "cell_type": "code",
   "execution_count": 29,
   "id": "f51d63f0-adf8-44d8-92a0-d5f4b1ef4515",
   "metadata": {},
   "outputs": [
    {
     "name": "stdout",
     "output_type": "stream",
     "text": [
      "{3, 4, 5}\n"
     ]
    }
   ],
   "source": [
    "s = {1,2,3,4}\n",
    "\n",
    "s.add(5)\n",
    "##s.clear(3)\n",
    "s.pop()\n",
    "\n",
    "s.remove(2)\n",
    "print(s)"
   ]
  },
  {
   "cell_type": "markdown",
   "id": "6c0e0676-c392-4065-bdfb-1ecba95da246",
   "metadata": {},
   "source": [
    "### methode of sets"
   ]
  },
  {
   "cell_type": "code",
   "execution_count": 35,
   "id": "40a7b632-857d-4e84-9b25-9f84dfd3b0c6",
   "metadata": {},
   "outputs": [
    {
     "name": "stdout",
     "output_type": "stream",
     "text": [
      "{1, 2, 3, 4, 5, 6, 7}\n",
      "{1, 2, 3, 5, 7}\n",
      "False\n",
      "True\n"
     ]
    }
   ],
   "source": [
    "a = {1,2,3,5,7}\n",
    "\n",
    "b = {1,2,3,5,7,4,6}\n",
    "\n",
    "print(a.union(b))\n",
    "\n",
    "print(a.intersection(b))\n",
    "\n",
    "## disjoint ==kono common takhbe nah\n",
    "\n",
    "print(a.isdisjoint(b))\n",
    "\n",
    "## subset\n",
    "\n",
    "print(a.issubset(b))\n"
   ]
  },
  {
   "cell_type": "markdown",
   "id": "18318f0e-41b9-4a5b-b054-2a57a0a899ed",
   "metadata": {},
   "source": [
    "### dictonaries in python"
   ]
  },
  {
   "cell_type": "code",
   "execution_count": 38,
   "id": "03a00f5d-a7aa-4b66-aecf-722c57274465",
   "metadata": {},
   "outputs": [
    {
     "name": "stdout",
     "output_type": "stream",
     "text": [
      "<class 'dict'>\n",
      "{'name': 'phitron', 'age': 30, 'addrss': 'dhaka', 'list': [10, 20, 30]}\n"
     ]
    }
   ],
   "source": [
    "##emty\n",
    "dic = {}\n",
    "\n",
    "print(type(dic))\n",
    "\n",
    "##value\n",
    "\n",
    "dic = { \"name\":\"phitron\",\"age\":30,\"addrss\":\"dhaka\",\"list\":[10,20,30]}\n",
    "\n",
    "print(dic)"
   ]
  },
  {
   "cell_type": "code",
   "execution_count": 43,
   "id": "2ca9e6b6-cc56-45ca-a9c5-eeac2966b696",
   "metadata": {},
   "outputs": [
    {
     "name": "stdout",
     "output_type": "stream",
     "text": [
      "phitron\n",
      "30\n"
     ]
    }
   ],
   "source": [
    "##accesss\n",
    "#dic_name[key]\n",
    "print(dic[\"name\"])\n",
    "print(dic.get(\"age\"))\n",
    "\n",
    "##same key takhte parbe nah"
   ]
  },
  {
   "cell_type": "markdown",
   "id": "1a9b95a4-ad92-446e-b58d-9c4ef7f76668",
   "metadata": {},
   "source": [
    "### dictonary methode"
   ]
  },
  {
   "cell_type": "code",
   "execution_count": 46,
   "id": "4e9ece79-d6fa-4088-8dc2-3a43b5dba1fb",
   "metadata": {},
   "outputs": [
    {
     "name": "stdout",
     "output_type": "stream",
     "text": [
      "{'name': 'phitron', 'age': 30, 'addrss': 'dhaka', 'list': [10, 20, 30]}\n",
      "None\n",
      "0\n"
     ]
    }
   ],
   "source": [
    "##printing default value\n",
    "print(dic)\n",
    "\n",
    "print(dic.get(\"math_marks\"))\n",
    "\n",
    "## none nah dekhai vlue dekhaite chaile\n",
    "print(dic.get(\"math_marks\",0))\n",
    "\n",
    "\n"
   ]
  },
  {
   "cell_type": "code",
   "execution_count": 50,
   "id": "3fc68a52-6076-49c1-96a4-65c5b6ddba8b",
   "metadata": {},
   "outputs": [
    {
     "name": "stdout",
     "output_type": "stream",
     "text": [
      "{'name': 'phitron', 'age': 30, 'addrss': 'dhaka', 'list': [10, 20, 30], 'math_marks': 30}\n",
      "{'name': 'phitron', 'age': 30, 'addrss': 'dhaka', 'list': [10, 20, 30], 'math_marks': 30}\n",
      "{'name': 'phitron', 'age': 30, 'addrss': 'dhaka', 'list': [10, 20, 30], 'math_marks': 30, 'english_marks': 30}\n"
     ]
    }
   ],
   "source": [
    "##adding vlues\n",
    "\n",
    "print(dic)\n",
    "\n",
    "dic[\"math_marks\"]= 30\n",
    "print(dic)\n",
    "\n",
    "dic.update({\"english_marks\":30})\n",
    "\n",
    "print(dic)"
   ]
  },
  {
   "cell_type": "code",
   "execution_count": 51,
   "id": "cdfb30f3-4a2a-42b2-a6eb-bf9852b48819",
   "metadata": {},
   "outputs": [
    {
     "name": "stdout",
     "output_type": "stream",
     "text": [
      "{'name': 'phitron', 'age': 30, 'addrss': 'dhaka', 'list': [10, 20, 30], 'english_marks': 30}\n"
     ]
    }
   ],
   "source": [
    "##deleting\n",
    "\n",
    "del dic[\"math_marks\"]\n",
    "\n",
    "print(dic)"
   ]
  },
  {
   "cell_type": "code",
   "execution_count": 54,
   "id": "c246645a-10a8-4a8f-89ac-cd61e2f6ad04",
   "metadata": {},
   "outputs": [
    {
     "name": "stdout",
     "output_type": "stream",
     "text": [
      "{'name': 'phitron', 'age': 30, 'addrss': 'dhaka', 'list': [10, 20, 30], 'english_marks': 30}\n"
     ]
    }
   ],
   "source": [
    "##copy\n",
    "dic_2 = dic.copy()\n",
    "\n",
    "print(dic_2)"
   ]
  },
  {
   "cell_type": "code",
   "execution_count": 55,
   "id": "ff69ae0f-23d7-4541-96a4-9292d881fcda",
   "metadata": {},
   "outputs": [
    {
     "ename": "TypeError",
     "evalue": "unhashable type: 'list'",
     "output_type": "error",
     "traceback": [
      "\u001b[1;31m---------------------------------------------------------------------------\u001b[0m",
      "\u001b[1;31mTypeError\u001b[0m                                 Traceback (most recent call last)",
      "Cell \u001b[1;32mIn[55], line 1\u001b[0m\n\u001b[1;32m----> 1\u001b[0m dic_3 \u001b[38;5;241m=\u001b[39m{[\u001b[38;5;241m1\u001b[39m,\u001b[38;5;241m2\u001b[39m,\u001b[38;5;241m3\u001b[39m]:\u001b[38;5;124m\"\u001b[39m\u001b[38;5;124ma\u001b[39m\u001b[38;5;124m\"\u001b[39m}\n\u001b[0;32m      3\u001b[0m \u001b[38;5;28mprint\u001b[39m(dic_3)\n",
      "\u001b[1;31mTypeError\u001b[0m: unhashable type: 'list'"
     ]
    }
   ],
   "source": [
    "dic_3 ={[1,2,3]:\"a\"}\n",
    "\n",
    "print(dic_3)"
   ]
  },
  {
   "cell_type": "code",
   "execution_count": 56,
   "id": "47ed7f97-d7c4-49b1-a6fa-0eac454e3a24",
   "metadata": {},
   "outputs": [
    {
     "name": "stdout",
     "output_type": "stream",
     "text": [
      "{(1, 2, 3): 'a'}\n"
     ]
    }
   ],
   "source": [
    "dic_3 ={(1,2,3):\"a\"}\n",
    "\n",
    "print(dic_3)"
   ]
  },
  {
   "cell_type": "code",
   "execution_count": 57,
   "id": "011f00ba-9e24-483c-a525-9fe9b828849c",
   "metadata": {},
   "outputs": [
    {
     "name": "stdout",
     "output_type": "stream",
     "text": [
      "{'name': 'phitron', 'age': 30, 'addrss': 'dhaka', 'list': [10, 20, 30], 'english_marks': 30}\n"
     ]
    }
   ],
   "source": [
    "print(dic)"
   ]
  },
  {
   "cell_type": "code",
   "execution_count": 62,
   "id": "8a35d630-fc4f-43a3-9bb4-8d2182858dfd",
   "metadata": {},
   "outputs": [
    {
     "name": "stdout",
     "output_type": "stream",
     "text": [
      "dict_keys(['name', 'age', 'addrss', 'list', 'english_marks', 'math_number'])\n",
      "dict_keys(['name', 'age', 'addrss', 'list', 'english_marks', 'math_number'])\n",
      "dict_values(['phitron', 30, 'dhaka', [10, 20, 30], 30, 30])\n",
      "dict_items([('name', 'phitron'), ('age', 30), ('addrss', 'dhaka'), ('list', [10, 20, 30]), ('english_marks', 30), ('math_number', 30)])\n"
     ]
    }
   ],
   "source": [
    "keys=dic.keys()\n",
    "\n",
    "print(keys)\n",
    "\n",
    "dic[\"math_number\"]=30\n",
    "\n",
    "print(keys)\n",
    "\n",
    "### real time update hoi\n",
    "\n",
    "values=dic.values()\n",
    "\n",
    "print(values)\n",
    "\n",
    "items=dic.items()\n",
    "\n",
    "print(items)"
   ]
  },
  {
   "cell_type": "code",
   "execution_count": 64,
   "id": "8d524a7b-8110-4a12-9b74-79c7ab4f81ca",
   "metadata": {},
   "outputs": [
    {
     "name": "stdout",
     "output_type": "stream",
     "text": [
      "name phitron\n",
      "age 30\n",
      "addrss dhaka\n",
      "list [10, 20, 30]\n",
      "english_marks 30\n",
      "math_number 30\n"
     ]
    }
   ],
   "source": [
    "\n",
    "\n",
    "for key,value in dic.items():\n",
    "    print(key,value)"
   ]
  },
  {
   "cell_type": "markdown",
   "id": "ad17653e-3f9a-4951-9ea3-c2e27f7302a0",
   "metadata": {},
   "source": [
    "### dictonary comprehension"
   ]
  },
  {
   "cell_type": "code",
   "execution_count": 67,
   "id": "0d639b8c-af74-45dd-af42-26c81bf828a1",
   "metadata": {},
   "outputs": [
    {
     "name": "stdout",
     "output_type": "stream",
     "text": [
      "{0: 0, 1: 1, 2: 4, 3: 9, 4: 16, 5: 25, 6: 36, 7: 49, 8: 64, 9: 81}\n"
     ]
    }
   ],
   "source": [
    "square = {x:x**2 for x in range(10)}\n",
    "\n",
    "print(square)"
   ]
  },
  {
   "cell_type": "code",
   "execution_count": 69,
   "id": "17400d17-4a63-4dc3-b35b-c81b7fd3e6aa",
   "metadata": {},
   "outputs": [
    {
     "name": "stdout",
     "output_type": "stream",
     "text": [
      "{(10, 10.5): 'dhaka', (20.5, 123): 'ctg', (101, 103): 'rajshahi'}\n"
     ]
    }
   ],
   "source": [
    "co_ordinates=[(10,10.5),(20.5,123),(101,103)]\n",
    "locations=[\"dhaka\",\"ctg\",\"rajshahi\"]\n",
    "\n",
    "exact_loc={co_o:loc for co_o,loc in zip(co_ordinates,locations)}\n",
    "\n",
    "print(exact_loc)"
   ]
  },
  {
   "cell_type": "code",
   "execution_count": null,
   "id": "209162fb-30e7-472f-91c0-18308769b148",
   "metadata": {},
   "outputs": [],
   "source": []
  }
 ],
 "metadata": {
  "kernelspec": {
   "display_name": "Python [conda env:base] *",
   "language": "python",
   "name": "conda-base-py"
  },
  "language_info": {
   "codemirror_mode": {
    "name": "ipython",
    "version": 3
   },
   "file_extension": ".py",
   "mimetype": "text/x-python",
   "name": "python",
   "nbconvert_exporter": "python",
   "pygments_lexer": "ipython3",
   "version": "3.13.5"
  }
 },
 "nbformat": 4,
 "nbformat_minor": 5
}
