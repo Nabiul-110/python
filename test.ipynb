{
 "cells": [
  {
   "cell_type": "markdown",
   "id": "6e071d2b",
   "metadata": {},
   "source": [
    "conditional statement"
   ]
  },
  {
   "cell_type": "code",
   "execution_count": 4,
   "id": "d93748ee",
   "metadata": {},
   "outputs": [
    {
     "name": "stdout",
     "output_type": "stream",
     "text": [
      "go without a rain coat\n",
      "this is a sunny day\n"
     ]
    }
   ],
   "source": [
    "raining = False\n",
    "\n",
    "if raining == True:\n",
    "    print(\"rain coat is necessary\")\n",
    "    print(\"caution\")\n",
    "else:\n",
    "    print(\"go without a rain coat\")\n",
    "    print(\"this is a sunny day\")"
   ]
  },
  {
   "cell_type": "code",
   "execution_count": 5,
   "id": "ed2ff0f4",
   "metadata": {},
   "outputs": [
    {
     "name": "stdout",
     "output_type": "stream",
     "text": [
      "ghurte jbo\n"
     ]
    }
   ],
   "source": [
    "taka = 1000\n",
    "raining = False\n",
    "\n",
    "if taka>500 and raining==False:\n",
    "    print(\"ghurte jbo\")\n",
    "else:\n",
    "    print(\"taka save koro\")"
   ]
  },
  {
   "cell_type": "markdown",
   "id": "30095961",
   "metadata": {},
   "source": [
    "loop in python\n"
   ]
  },
  {
   "cell_type": "code",
   "execution_count": 10,
   "id": "978941e5",
   "metadata": {},
   "outputs": [
    {
     "name": "stdout",
     "output_type": "stream",
     "text": [
      "1 hello world\n",
      "3 hello world\n",
      "5 hello world\n",
      "7 hello world\n",
      "9 hello world\n"
     ]
    },
    {
     "data": {
      "text/plain": [
       "[0, 1, 2, 3, 4, 5, 6, 7, 8, 9, 10, 11, 12, 13, 14]"
      ]
     },
     "execution_count": 10,
     "metadata": {},
     "output_type": "execute_result"
    }
   ],
   "source": [
    "for i in range(1,10,2):\n",
    "    print(i,\"hello world\")\n",
    "\n",
    "list(range(15))"
   ]
  },
  {
   "cell_type": "code",
   "execution_count": 11,
   "id": "23e429ac",
   "metadata": {},
   "outputs": [
    {
     "name": "stdout",
     "output_type": "stream",
     "text": [
      "1 1\n",
      "1 2\n",
      "1 3\n",
      "1 4\n",
      "2 1\n",
      "2 2\n",
      "2 3\n",
      "2 4\n",
      "3 1\n",
      "3 2\n",
      "3 3\n",
      "3 4\n",
      "4 1\n",
      "4 2\n",
      "4 3\n",
      "4 4\n",
      "5 1\n",
      "5 2\n",
      "5 3\n",
      "5 4\n",
      "6 1\n",
      "6 2\n",
      "6 3\n",
      "6 4\n",
      "7 1\n",
      "7 2\n",
      "7 3\n",
      "7 4\n",
      "8 1\n",
      "8 2\n",
      "8 3\n",
      "8 4\n",
      "9 1\n",
      "9 2\n",
      "9 3\n",
      "9 4\n"
     ]
    }
   ],
   "source": [
    "for i in range(1,10):\n",
    "    for j in range(1,5):\n",
    "        print(i,j)"
   ]
  },
  {
   "cell_type": "code",
   "execution_count": 13,
   "id": "cc175f36",
   "metadata": {},
   "outputs": [
    {
     "name": "stdout",
     "output_type": "stream",
     "text": [
      "1 hello world\n",
      "2 hello world\n",
      "3 hello world\n",
      "4 hello world\n",
      "5 hello world\n",
      "6 hello world\n",
      "7 hello world\n",
      "8 hello world\n",
      "9 hello world\n"
     ]
    }
   ],
   "source": [
    "count =1\n",
    "\n",
    "while count<10 :\n",
    "    print(count,\"hello world\")\n",
    "    count =count +1"
   ]
  },
  {
   "cell_type": "code",
   "execution_count": 15,
   "id": "e778ef09",
   "metadata": {},
   "outputs": [
    {
     "name": "stdout",
     "output_type": "stream",
     "text": [
      "1 3\n"
     ]
    }
   ],
   "source": [
    "inp = input()\n",
    "\n",
    "numbers = inp.split()\n",
    "\n",
    "\n",
    "x =int(numbers[0])\n",
    "y = int(numbers[1])\n",
    "z = int(numbers[2])\n",
    "\n",
    "min = x\n",
    "max = x\n",
    "\n",
    "##min \n",
    "if min > y:\n",
    "    min = y\n",
    "if min > z :\n",
    "    min = z\n",
    "\n",
    "##max\n",
    "if max< y:\n",
    "    max = y\n",
    "if max < z :\n",
    "    max = z\n",
    "\n",
    "print(min,max)\n"
   ]
  },
  {
   "cell_type": "code",
   "execution_count": null,
   "id": "923a6d18",
   "metadata": {},
   "outputs": [],
   "source": []
  }
 ],
 "metadata": {
  "kernelspec": {
   "display_name": "Python 3",
   "language": "python",
   "name": "python3"
  },
  "language_info": {
   "codemirror_mode": {
    "name": "ipython",
    "version": 3
   },
   "file_extension": ".py",
   "mimetype": "text/x-python",
   "name": "python",
   "nbconvert_exporter": "python",
   "pygments_lexer": "ipython3",
   "version": "3.13.7"
  }
 },
 "nbformat": 4,
 "nbformat_minor": 5
}
