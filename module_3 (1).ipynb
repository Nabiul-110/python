{
 "cells": [
  {
   "cell_type": "code",
   "execution_count": null,
   "id": "9bc4d0d0-4c92-4c57-ba7b-490ebee3391b",
   "metadata": {},
   "outputs": [],
   "source": [
    "print(\"hello world\")"
   ]
  },
  {
   "cell_type": "markdown",
   "id": "40b2ab6f-8dd5-471e-a345-502988ea91e6",
   "metadata": {},
   "source": [
    "### string "
   ]
  },
  {
   "cell_type": "code",
   "execution_count": 3,
   "id": "777cb0d1-e647-4de4-927c-99ff1c420a3b",
   "metadata": {},
   "outputs": [
    {
     "name": "stdout",
     "output_type": "stream",
     "text": [
      " what your name?\n",
      "<class 'str'>\n"
     ]
    }
   ],
   "source": [
    "promt = \" what your name?\"\n",
    "\n",
    "print(promt)\n",
    "print(type(promt))\n"
   ]
  },
  {
   "cell_type": "code",
   "execution_count": 4,
   "id": "9ffcbfb7-219a-48a2-8ccf-edb0f0fa2d88",
   "metadata": {},
   "outputs": [
    {
     "name": "stdout",
     "output_type": "stream",
     "text": [
      "what your name?\n",
      "memmmmmeee emmmeme ememe mekem\n",
      "rjrjeel eell wkwkj ekrklr\n"
     ]
    }
   ],
   "source": [
    "message=\"\"\"what your name?\n",
    "memmmmmeee emmmeme ememe mekem\n",
    "rjrjeel eell wkwkj ekrklr\"\"\"\n",
    "\n",
    "print(message)"
   ]
  },
  {
   "cell_type": "markdown",
   "id": "19eadcdb-a08d-4c75-95a3-9a8fa81af77d",
   "metadata": {},
   "source": [
    "### indexing and sliceing"
   ]
  },
  {
   "cell_type": "code",
   "execution_count": 5,
   "id": "7910a0f2-1b6f-472d-abe4-c3abc09be250",
   "metadata": {},
   "outputs": [
    {
     "name": "stdout",
     "output_type": "stream",
     "text": [
      "h\n"
     ]
    }
   ],
   "source": [
    "string = \"hello world\"\n",
    "\n",
    "print(string[0])"
   ]
  },
  {
   "cell_type": "code",
   "execution_count": 7,
   "id": "f97b9e3d-dec3-47e2-adbd-8ff857370a28",
   "metadata": {},
   "outputs": [
    {
     "name": "stdout",
     "output_type": "stream",
     "text": [
      "h\n"
     ]
    }
   ],
   "source": [
    "string = \"hello world\"\n",
    "\n",
    "print(string[0])"
   ]
  },
  {
   "cell_type": "code",
   "execution_count": 20,
   "id": "3f84c854-1c96-4d67-aace-66a2872b6563",
   "metadata": {},
   "outputs": [
    {
     "name": "stdout",
     "output_type": "stream",
     "text": [
      "what your name?\n"
     ]
    }
   ],
   "source": [
    "first_message = message[0:15:1] ##sliceing the message\n",
    "\n",
    "print(first_message)"
   ]
  },
  {
   "cell_type": "code",
   "execution_count": 18,
   "id": "0c804831-37da-41cf-86db-3570c4d3c7e0",
   "metadata": {},
   "outputs": [
    {
     "name": "stdout",
     "output_type": "stream",
     "text": [
      "\n"
     ]
    }
   ],
   "source": [
    "first_message = message[-1:-13:1] ##sliceing the message\n",
    "\n",
    "print(first_message)"
   ]
  },
  {
   "cell_type": "code",
   "execution_count": 15,
   "id": "799e45e3-2925-47d9-8507-ddd2ff809631",
   "metadata": {},
   "outputs": [
    {
     "name": "stdout",
     "output_type": "stream",
     "text": [
      "wa ornm?\n"
     ]
    }
   ],
   "source": [
    "first_message = message[0:15:2] ##step 2\n",
    "\n",
    "print(first_message)"
   ]
  },
  {
   "cell_type": "code",
   "execution_count": 23,
   "id": "7c2ce833-6c3f-4298-b3fb-4b14ac09a621",
   "metadata": {},
   "outputs": [
    {
     "name": "stdout",
     "output_type": "stream",
     "text": [
      "?\n",
      "e\n",
      "\n"
     ]
    }
   ],
   "source": [
    "print(first_message[-1])\n",
    "print(first_message[-2])\n",
    "print(first_message[-1:-5])"
   ]
  },
  {
   "cell_type": "markdown",
   "id": "35eb89a7-3aa2-4516-a135-dfdde7994abb",
   "metadata": {},
   "source": [
    "#### string methods"
   ]
  },
  {
   "cell_type": "code",
   "execution_count": 13,
   "id": "52ebcab1-97b6-4bc1-839c-97442bd5c33e",
   "metadata": {},
   "outputs": [
    {
     "name": "stdout",
     "output_type": "stream",
     "text": [
      "WELCOME TO ML COURSE,TO\n",
      "23\n",
      "True\n",
      "False\n",
      "8\n",
      "21\n",
      "2\n",
      "welcome to ai/ml course,to\n"
     ]
    }
   ],
   "source": [
    "string = \"welcome to ml course,to\"\n",
    "\n",
    "## upper and lower case\n",
    "proced = string.upper()\n",
    "\n",
    "print(proced)\n",
    "\n",
    "print(len(string))## lenght of this string\n",
    "\n",
    "print(\"ml\" in string)## ml likhata ache naki khujbe\n",
    "\n",
    "print(\"Ml\"in string)\n",
    "\n",
    "## shurur dik theke kore,kono word koi number index  eh ache eita khujbo\n",
    "\n",
    "index = proced.find(\"TO\")\n",
    "\n",
    "print(index)\n",
    "\n",
    "##same word last er dikhe kotha ache\n",
    "index= proced.rfind(\"TO\")\n",
    "\n",
    "print(index)\n",
    "\n",
    "### sub-string koi bar ache eita check kore \n",
    "count = proced.count(\"TO\")\n",
    "print(count)\n",
    "\n",
    "## replace a sub string\n",
    "new_st=string.replace(\"ml\",\"ai/ml\")\n",
    "\n",
    "print(new_st)"
   ]
  },
  {
   "cell_type": "markdown",
   "id": "a07ef992-27cb-4b21-8668-3ca02f7ab236",
   "metadata": {},
   "source": [
    "### joining,splitting,formatted string"
   ]
  },
  {
   "cell_type": "code",
   "execution_count": 21,
   "id": "2761403f-d1a4-4890-b532-757d9950c0bd",
   "metadata": {},
   "outputs": [
    {
     "name": "stdout",
     "output_type": "stream",
     "text": [
      "['what', 'is', 'phitron', '?']\n",
      "what-is-phitron-?\n"
     ]
    }
   ],
   "source": [
    "promt = \"what is phitron ?\"\n",
    "\n",
    "token = promt.split()\n",
    "\n",
    "print(token)\n",
    "\n",
    "sentence = \"-\".join(token)\n",
    "\n",
    "print(sentence)"
   ]
  },
  {
   "cell_type": "markdown",
   "id": "eb628dd5-c34e-433a-acff-69db76b817bb",
   "metadata": {},
   "source": [
    "### formated string"
   ]
  },
  {
   "cell_type": "code",
   "execution_count": 23,
   "id": "8482651a-e46c-414b-8df5-03d040f52fcd",
   "metadata": {},
   "outputs": [
    {
     "name": "stdout",
     "output_type": "stream",
     "text": [
      "his name is adil.his age is 23.his height is 5.6\n"
     ]
    }
   ],
   "source": [
    "name =\"adil\"\n",
    "age = 23\n",
    "height=5.6\n",
    "\n",
    "print(f\"his name is {name}.his age is {age}.his height is {height}\")\n"
   ]
  },
  {
   "cell_type": "markdown",
   "id": "0ef80532-9c51-4ec3-8436-1ffd839f4b0e",
   "metadata": {},
   "source": [
    "### List methode"
   ]
  },
  {
   "cell_type": "code",
   "execution_count": 24,
   "id": "44375c25-75be-4a7a-aceb-9ff8970e8deb",
   "metadata": {},
   "outputs": [
    {
     "name": "stdout",
     "output_type": "stream",
     "text": [
      "[100, 43, 5, 67, 33]\n"
     ]
    }
   ],
   "source": [
    "members = [100,43,5,67,33]\n",
    "numbers=[10.22,20.4,6.9]\n",
    "num=['apple','orange'']\n",
    "\n",
    "print(members)"
   ]
  },
  {
   "cell_type": "code",
   "execution_count": 28,
   "id": "cae65f80-c415-436d-a54e-566155e8527e",
   "metadata": {},
   "outputs": [
    {
     "name": "stdout",
     "output_type": "stream",
     "text": [
      "44\n",
      "[100, 43, 44, 67, 33]\n",
      "[100, 43, 44]\n"
     ]
    }
   ],
   "source": [
    "## access\n",
    "print(members[2])\n",
    "\n",
    "members[2] = 44\n",
    "\n",
    "print(members)\n",
    "\n",
    "new_list =members[0:3]\n",
    "\n",
    "print(new_list)"
   ]
  },
  {
   "cell_type": "code",
   "execution_count": 33,
   "id": "888f5e43-7af3-459b-a8b8-a28036229172",
   "metadata": {},
   "outputs": [
    {
     "name": "stdout",
     "output_type": "stream",
     "text": [
      "[22, 22, 100, 43, 44, 80, 80, 80]\n",
      "[22, 22, 22, 100, 43, 44, 80, 80, 80]\n",
      "[22, 22, 22, 100, 43, 44, 80, 80]\n"
     ]
    }
   ],
   "source": [
    "### modification\n",
    "\n",
    "## adding a iteam\n",
    "new_list.append(80)\n",
    "\n",
    "print(new_list)\n",
    "\n",
    "new_list.insert(0,22)\n",
    "\n",
    "print(new_list)\n",
    "\n",
    "new_list.pop()\n",
    "\n",
    "print(new_list)\n",
    "\n",
    "new_list.remove(80)\n",
    "\n"
   ]
  },
  {
   "cell_type": "code",
   "execution_count": 34,
   "id": "fb469fa1-4f15-4eac-9a75-c1582387e78c",
   "metadata": {},
   "outputs": [
    {
     "name": "stdout",
     "output_type": "stream",
     "text": [
      "[11, 13, 22, 28, 44, 56]\n"
     ]
    }
   ],
   "source": [
    "lis = [13,11,56,22,44,28]\n",
    "\n",
    "lis.sort()\n",
    "print(lis)"
   ]
  },
  {
   "cell_type": "code",
   "execution_count": 35,
   "id": "64d8c7eb-e609-4959-92ed-68bd3c4693be",
   "metadata": {},
   "outputs": [
    {
     "name": "stdout",
     "output_type": "stream",
     "text": [
      "[56, 44, 28, 22, 13, 11]\n"
     ]
    }
   ],
   "source": [
    "lis.reverse()\n",
    "\n",
    "print(lis)"
   ]
  },
  {
   "cell_type": "markdown",
   "id": "d6819fcb-3015-47cc-ac63-faf3bf3a3b30",
   "metadata": {},
   "source": [
    "### stack as list"
   ]
  },
  {
   "cell_type": "code",
   "execution_count": 38,
   "id": "151f5375-2d3f-42a8-96f6-4fda0a845136",
   "metadata": {},
   "outputs": [
    {
     "name": "stdout",
     "output_type": "stream",
     "text": [
      "[10, 20, 30, 40]\n",
      "40\n",
      "30\n"
     ]
    }
   ],
   "source": [
    "stack = []\n",
    "\n",
    "stack.append(10)\n",
    "stack.append(20)\n",
    "stack.append(30)\n",
    "stack.append(40)\n",
    "\n",
    "print(stack)\n",
    "\n",
    "print(stack.pop())\n",
    "print(stack.pop())"
   ]
  },
  {
   "cell_type": "markdown",
   "id": "f2530c63-377a-4e86-9627-07a07103bffe",
   "metadata": {},
   "source": [
    "### list as queue"
   ]
  },
  {
   "cell_type": "code",
   "execution_count": 41,
   "id": "cb9ff961-e0b1-4d0e-8aa5-83b040a5f163",
   "metadata": {},
   "outputs": [
    {
     "name": "stdout",
     "output_type": "stream",
     "text": [
      "10\n",
      "20\n"
     ]
    }
   ],
   "source": [
    "queue = []\n",
    "queue.append(10)\n",
    "queue.append(20)\n",
    "queue.append(30)\n",
    "queue.append(40)\n",
    "\n",
    "##remove\n",
    "print(queue.pop(0))\n",
    "\n",
    "print(queue[0])\n"
   ]
  },
  {
   "cell_type": "markdown",
   "id": "f2a1c92b-d819-401c-85a3-9355a8fad897",
   "metadata": {},
   "source": [
    "### list comprehension"
   ]
  },
  {
   "cell_type": "code",
   "execution_count": 42,
   "id": "a37494dd-c634-48da-8f6d-0ef0305d41b6",
   "metadata": {},
   "outputs": [
    {
     "name": "stdout",
     "output_type": "stream",
     "text": [
      "[0, 2, 4, 6, 8, 10, 12, 14, 16, 18, 20, 22, 24, 26, 28, 30, 32, 34, 36, 38, 40, 42, 44, 46, 48, 50, 52, 54, 56, 58, 60, 62, 64, 66, 68, 70, 72, 74, 76, 78, 80, 82, 84, 86, 88, 90, 92, 94, 96, 98]\n"
     ]
    }
   ],
   "source": [
    "even = []\n",
    "\n",
    "for i in range(100):\n",
    "    if i%2==0 :\n",
    "        even.append(i)\n",
    "print(even)"
   ]
  },
  {
   "cell_type": "code",
   "execution_count": 47,
   "id": "c6c8f8b4-b3af-407f-becf-12cfcda32075",
   "metadata": {},
   "outputs": [
    {
     "name": "stdout",
     "output_type": "stream",
     "text": [
      "[0, 2, 4, 6, 8]\n"
     ]
    }
   ],
   "source": [
    "random_list = [x for x in range(10) if x%2==0]\n",
    "\n",
    "print(random_list)"
   ]
  },
  {
   "cell_type": "code",
   "execution_count": null,
   "id": "c7cf3bb5-c51e-49d8-bac8-2207ec57bff2",
   "metadata": {},
   "outputs": [],
   "source": []
  }
 ],
 "metadata": {
  "kernelspec": {
   "display_name": "Python [conda env:base] *",
   "language": "python",
   "name": "conda-base-py"
  },
  "language_info": {
   "codemirror_mode": {
    "name": "ipython",
    "version": 3
   },
   "file_extension": ".py",
   "mimetype": "text/x-python",
   "name": "python",
   "nbconvert_exporter": "python",
   "pygments_lexer": "ipython3",
   "version": "3.13.5"
  }
 },
 "nbformat": 4,
 "nbformat_minor": 5
}
